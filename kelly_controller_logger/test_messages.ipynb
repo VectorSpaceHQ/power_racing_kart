{
 "cells": [
  {
   "cell_type": "code",
   "execution_count": 1,
   "metadata": {},
   "outputs": [
    {
     "name": "stdout",
     "output_type": "stream",
     "text": [
      "True\n",
      "{'command': 27, 'length': 16, 'break_ad': 0, 'tps_ad': 42, 'sp_ad': 0, 'power_ad': 147, 'vs_ad': 123, 'bplus_ad': 147, 'temp_ad': 99, 'ia_ad': 129, 'ib_ad': 129, 'ic_ad': 129, 'va_ad': 0, 'vb_ad': 0, 'vc_ad': 0, 'htemp_ad': 255, 'vplus_ad': 204, 'ltemp_ad': 239}\n",
      "True\n",
      "{'command': 51, 'length': 16, 'pwr_volt': 54, 'bplus_volt': 54, 'va_volt': 0, 'vb_volt': 0, 'vc_volt': 0, 'pwm_duty': 0, 'vplus_volt': 12, 'high_temp': 50, 'low_temp': 31, 'motor_temp': 0, 'brake_switch': 1, 'rev_switch': 1, 'foot_switch': 1, 'sc_level': 0, 'sb_level': 0, 'sa_level': 1}\n"
     ]
    }
   ],
   "source": [
    "from src.messages import *\n",
    "\n",
    "command_message = CommandMessage()\n",
    "example_command_data = b'\\x1b\\x10\\x00\\x2a\\x00\\x93\\x7b\\x93\\x63\\x81\\x81\\x81\\x00\\x00\\x00\\xff\\xcc\\xef\\x96'\n",
    "success = command_message.load_message(example_command_data)\n",
    "print(success)\n",
    "print(command_message.asdict())\n",
    "\n",
    "feedback_message = FeedbackMessage()\n",
    "example_feedback_data = b'\\x33\\x10\\x36\\x36\\x00\\x00\\x00\\x00\\x0c\\x32\\x1f\\x00\\x01\\x01\\x01\\x00\\x00\\x01\\x10'\n",
    "success = feedback_message.load_message(example_feedback_data)\n",
    "print(success)\n",
    "print(feedback_message.asdict())\n",
    "\n",
    "encoder_message = EncoderMessage()\n",
    "example_encoder_data = b'\\x34\\x0d\\x00\\x00\\x00\\x00\\x23\\x01\\x01\\x00\\x00\\x00\\x00\\x00\\x00\\x66'\n",
    "success = encoder_message.load_message(example_encoder_data)\n",
    "print(success)\n",
    "print(encoder_message.asdict())\n"
   ]
  }
 ],
 "metadata": {
  "kernelspec": {
   "display_name": "Python 3",
   "language": "python",
   "name": "python3"
  },
  "language_info": {
   "codemirror_mode": {
    "name": "ipython",
    "version": 3
   },
   "file_extension": ".py",
   "mimetype": "text/x-python",
   "name": "python",
   "nbconvert_exporter": "python",
   "pygments_lexer": "ipython3",
   "version": "3.12.3"
  }
 },
 "nbformat": 4,
 "nbformat_minor": 2
}
