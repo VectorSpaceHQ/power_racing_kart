{
 "cells": [
  {
   "cell_type": "code",
   "execution_count": 1,
   "metadata": {},
   "outputs": [
    {
     "name": "stdout",
     "output_type": "stream",
     "text": [
      "Logging to: c:\\Users\\aburks\\dev\\burksbuilds\\power_racing_kart\\kelly_controller_logger\\LOG_2024-09-21T20-31-19.csv\n",
      "Logger Serial Opened\n",
      "Controller serial opened: True\n",
      "response length incorrect: 0 != 19!\n",
      "Failed to receive or parse at least one message\n"
     ]
    },
    {
     "ename": "KeyboardInterrupt",
     "evalue": "",
     "output_type": "error",
     "traceback": [
      "\u001b[1;31m---------------------------------------------------------------------------\u001b[0m",
      "\u001b[1;31mKeyboardInterrupt\u001b[0m                         Traceback (most recent call last)",
      "Cell \u001b[1;32mIn[1], line 18\u001b[0m\n\u001b[0;32m     16\u001b[0m fake_controller_thread \u001b[38;5;241m=\u001b[39m Thread(target\u001b[38;5;241m=\u001b[39mfake_controller\u001b[38;5;241m.\u001b[39mrun)\n\u001b[0;32m     17\u001b[0m fake_controller_thread\u001b[38;5;241m.\u001b[39mstart()\n\u001b[1;32m---> 18\u001b[0m \u001b[43mlogger\u001b[49m\u001b[38;5;241;43m.\u001b[39;49m\u001b[43mrun\u001b[49m\u001b[43m(\u001b[49m\u001b[43mf\u001b[49m\u001b[43m,\u001b[49m\u001b[43m \u001b[49m\u001b[43mfrequency_hz\u001b[49m\u001b[38;5;241;43m=\u001b[39;49m\u001b[38;5;241;43m1\u001b[39;49m\u001b[43m)\u001b[49m\n",
      "File \u001b[1;32mc:\\Users\\aburks\\dev\\burksbuilds\\power_racing_kart\\kelly_controller_logger\\kelly_controller_logger.py:53\u001b[0m, in \u001b[0;36mKellyControllerLogger.run\u001b[1;34m(self, f, frequency_hz)\u001b[0m\n\u001b[0;32m     51\u001b[0m     \u001b[38;5;28mprint\u001b[39m(\u001b[38;5;124m\"\u001b[39m\u001b[38;5;124mFrequency value is invalid\u001b[39m\u001b[38;5;124m\"\u001b[39m)\n\u001b[0;32m     52\u001b[0m     \u001b[38;5;28;01mreturn\u001b[39;00m \u001b[38;5;66;03m#error state\u001b[39;00m\n\u001b[1;32m---> 53\u001b[0m \u001b[43mtime\u001b[49m\u001b[38;5;241;43m.\u001b[39;49m\u001b[43msleep\u001b[49m\u001b[43m(\u001b[49m\u001b[38;5;241;43m1\u001b[39;49m\u001b[38;5;241;43m/\u001b[39;49m\u001b[43mfrequency_hz\u001b[49m\u001b[43m)\u001b[49m\n\u001b[0;32m     54\u001b[0m \u001b[38;5;28;01mif\u001b[39;00m \u001b[38;5;28mself\u001b[39m\u001b[38;5;241m.\u001b[39mmetadata[\u001b[38;5;124m'\u001b[39m\u001b[38;5;124mid\u001b[39m\u001b[38;5;124m'\u001b[39m] \u001b[38;5;241m%\u001b[39m (\u001b[38;5;241m5\u001b[39m\u001b[38;5;241m*\u001b[39mfrequency_hz) \u001b[38;5;241m==\u001b[39m \u001b[38;5;241m0\u001b[39m:\n\u001b[0;32m     55\u001b[0m     f\u001b[38;5;241m.\u001b[39mflush()\n",
      "\u001b[1;31mKeyboardInterrupt\u001b[0m: "
     ]
    }
   ],
   "source": [
    "from threading import Thread\n",
    "import os\n",
    "import datetime\n",
    "\n",
    "from kelly_controller_logger import KellyControllerLogger\n",
    "from fake_controller import FakeKellyController\n",
    "\n",
    "logger = KellyControllerLogger(\"COM4\") #replace with test inboud COM port\n",
    "fake_controller = FakeKellyController(\"COM6\") #replace with test outboudn COM port\n",
    "\n",
    "timestamp = datetime.datetime.now().strftime(f\"%Y-%m-%dT%H-%M-%S\")\n",
    "file_name = os.path.join(os.getcwd(),\"LOG_\"+timestamp+\".csv\")\n",
    "\n",
    "with open(file_name,'w',newline='') as f:\n",
    "    print(\"Logging to: %s\"%file_name)\n",
    "    fake_controller_thread = Thread(target=fake_controller.run)\n",
    "    fake_controller_thread.start()\n",
    "    logger.run(f, frequency_hz=1)\n",
    "\n"
   ]
  }
 ],
 "metadata": {
  "kernelspec": {
   "display_name": ".venv",
   "language": "python",
   "name": "python3"
  },
  "language_info": {
   "codemirror_mode": {
    "name": "ipython",
    "version": 3
   },
   "file_extension": ".py",
   "mimetype": "text/x-python",
   "name": "python",
   "nbconvert_exporter": "python",
   "pygments_lexer": "ipython3",
   "version": "3.12.3"
  }
 },
 "nbformat": 4,
 "nbformat_minor": 2
}
